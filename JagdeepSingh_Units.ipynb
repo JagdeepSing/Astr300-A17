{
 "cells": [
  {
   "cell_type": "markdown",
   "metadata": {},
   "source": [
    "# Jagdeep Singh - Units in Python"
   ]
  },
  {
   "cell_type": "markdown",
   "metadata": {},
   "source": [
    "* Use the `Astropy` units and constants packages to solve the following problems.\n",
    "* Do not hardcode any constants!\n",
    "* Unless asked, your units should be in the simplest SI units possible.\n",
    "* Your answers should be as sentences. For example:\n",
    "  * `The impuse would be VALUE UNITS.`"
   ]
  },
  {
   "cell_type": "code",
   "execution_count": 71,
   "metadata": {},
   "outputs": [
    {
     "data": {
      "text/plain": [
       "<astropy.units.core._UnitContext at 0x10588c7f0>"
      ]
     },
     "execution_count": 71,
     "metadata": {},
     "output_type": "execute_result"
    }
   ],
   "source": [
    "import numpy as np\n",
    "\n",
    "from astropy import units as u\n",
    "from astropy import constants as const\n",
    "from astropy.units import imperial\n",
    "imperial.enable()"
   ]
  },
  {
   "cell_type": "markdown",
   "metadata": {},
   "source": [
    "### Impulse is a change in momentum\n",
    "\n",
    "$$ I = \\Delta\\ p\\ =\\ m\\Delta v $$"
   ]
  },
  {
   "cell_type": "markdown",
   "metadata": {},
   "source": [
    "**Problem 1** - Calculate the $\\Delta$v that would be the result of an impuse of 700 (N * s) for M = 338 kg."
   ]
  },
  {
   "cell_type": "code",
   "execution_count": 72,
   "metadata": {},
   "outputs": [
    {
     "name": "stdout",
     "output_type": "stream",
     "text": [
      "The impuse would be 2.07 N s / kg.\n"
     ]
    }
   ],
   "source": [
    "v_change1 = ((700 * (u.N * u.s)) / (338 * (u.kg)))\n",
    "\n",
    "print(\"The impuse would be {0:.3g}.\".format(v_change1))"
   ]
  },
  {
   "cell_type": "markdown",
   "metadata": {},
   "source": [
    "**Problem 2** - Calculate the $\\Delta$v that would be the result of an impuse of 700 (lbf * s) for M = 338 kg."
   ]
  },
  {
   "cell_type": "code",
   "execution_count": 79,
   "metadata": {},
   "outputs": [
    {
     "name": "stdout",
     "output_type": "stream",
     "text": [
      "The impuse would be 9.21 m / s.\n"
     ]
    }
   ],
   "source": [
    "v_change2 = ((700 * (imperial.lbf * u.s)) / (338 * (u.kg))).decompose()\n",
    "\n",
    "print(\"The impuse would be {0:.3g}.\".format(v_change2))"
   ]
  },
  {
   "cell_type": "markdown",
   "metadata": {},
   "source": [
    "This is the unit conversion error that doomed the [Mars Climate Orbiter](https://en.wikipedia.org/wiki/Mars_Climate_Orbiter)"
   ]
  },
  {
   "cell_type": "markdown",
   "metadata": {},
   "source": [
    "### The range of a projectile launched with a velocity (v) at and angle ($\\theta$) is\n",
    "\n",
    "$$R\\ =\\  {v^2 \\over g}\\ sin(2\\theta)$$"
   ]
  },
  {
   "cell_type": "markdown",
   "metadata": {},
   "source": [
    "**Problem 3** - Find R for v = 123 mph and $\\theta$ = 1000 arc minutes"
   ]
  },
  {
   "cell_type": "code",
   "execution_count": 74,
   "metadata": {},
   "outputs": [
    {
     "name": "stdout",
     "output_type": "stream",
     "text": [
      "The range would be 169.42 m.\n"
     ]
    }
   ],
   "source": [
    "mph = (imperial.mile / u.hour)\n",
    "\n",
    "def get_range(V, A):\n",
    "    result = ((V ** 2) / const.g0) * (np.sin(2 * A))\n",
    "    return result.decompose()\n",
    "\n",
    "range1 = get_range(123 * mph,1000 * u.arcmin)\n",
    "print(\"The range would be {0:.5g}.\".format(range1))"
   ]
  },
  {
   "cell_type": "markdown",
   "metadata": {},
   "source": [
    "**Problem 4** - How fast to you have to throw a football at 33.3 degrees so that is goes exactly 100 yards? Express your answer in mph"
   ]
  },
  {
   "cell_type": "code",
   "execution_count": 75,
   "metadata": {},
   "outputs": [
    {
     "name": "stdout",
     "output_type": "stream",
     "text": [
      "You would have to throw the football at 69.92 mi / h.\n"
     ]
    }
   ],
   "source": [
    "def get_speed(R, A):\n",
    "    R = R.to(u.m)\n",
    "    result = np.sqrt((R * const.g0) / np.sin(2 * A))\n",
    "    return result.decompose()\n",
    "\n",
    "speed = get_speed(100 * imperial.yd, 33.3 * u.deg)\n",
    "speed = speed.to(mph)\n",
    "print(\"You would have to throw the football at {0:.4g}.\".format(speed))"
   ]
  },
  {
   "cell_type": "markdown",
   "metadata": {},
   "source": [
    "### Kepler's third law can be expressed as:\n",
    "\n",
    "$$ T^2 = \\left( {{4\\pi^2} \\over {GM}} \\right)\\ r^3 $$\n",
    "\n",
    "Where **T** is the orbial period of an object at distance (**r**) from the center of an object of mass (**M**).\n",
    "\n",
    "It assumes the mass of the orbiting object is small compared to the mass of the central object."
   ]
  },
  {
   "cell_type": "markdown",
   "metadata": {},
   "source": [
    "**Problem 5** - Calculate the orbital period of International Space Station (ISS). ISS orbits 254 miles above the **surface** of the Earth. Expess your answer in minutes."
   ]
  },
  {
   "cell_type": "code",
   "execution_count": 90,
   "metadata": {},
   "outputs": [
    {
     "name": "stdout",
     "output_type": "stream",
     "text": [
      "The orbital period is 92.739 min.\n"
     ]
    }
   ],
   "source": [
    "def get_orbital_period(r): \n",
    "    r = r.to(u.meter) + const.R_earth\n",
    "    result = np.sqrt((((4 * (np.pi ** 2) / \n",
    "                        (const.G * const.M_earth)) * (r ** 3))))\n",
    "    return result.decompose()\n",
    "\n",
    "period = get_orbital_period(254 * imperial.mile)\n",
    "period = period.to(u.min)\n",
    "print(\"The orbital period is {0:.5g}.\".format(period))"
   ]
  },
  {
   "cell_type": "markdown",
   "metadata": {},
   "source": [
    "** Problem 6 ** - An exoplanet orbits the star Epsilon Tauri in 595 days at a distance of 1.93 AU. Calculate the mass of Epsilon Tauri in terms of solar masses."
   ]
  },
  {
   "cell_type": "code",
   "execution_count": 26,
   "metadata": {},
   "outputs": [
    {
     "name": "stdout",
     "output_type": "stream",
     "text": [
      "The exoplanet has a mass of 2.71 solMass.\n"
     ]
    }
   ],
   "source": [
    "def get_mass(T, r):\n",
    "    T = T.to(u.s)\n",
    "    r = r.to(u.meter)\n",
    "    result = ((4 * (np.pi ** 2) * (r ** 3)) / ((const.G) * (T ** 2)))\n",
    "    return result.decompose()\n",
    "\n",
    "mass = get_mass(595 * u.day, 1.93 * u.AU)\n",
    "mass = mass.to(u.solMass)\n",
    "print(\"The exoplanet has a mass of {0:.3g}.\".format(mass))"
   ]
  },
  {
   "cell_type": "markdown",
   "metadata": {},
   "source": [
    "### The velocity of an object in orbit is\n",
    "\n",
    "$$ v=\\sqrt{GM\\over r} $$\n",
    "\n",
    "Where the object is at a distance (**r**) around a central object of mass (**M**)."
   ]
  },
  {
   "cell_type": "markdown",
   "metadata": {},
   "source": [
    "**Problem 7** - Calculate the velocity of ISS. Expess your answer in km/s and mph."
   ]
  },
  {
   "cell_type": "code",
   "execution_count": 91,
   "metadata": {},
   "outputs": [
    {
     "name": "stdout",
     "output_type": "stream",
     "text": [
      "The velocity of ISS is 7.66 km / s or 1.71e+04 mi / h.\n"
     ]
    }
   ],
   "source": [
    "def get_velocity(r):\n",
    "    r = r.to(u.meter) + const.R_earth\n",
    "    result = np.sqrt( (const.G * const.M_earth) / (r))\n",
    "    return result.decompose()\n",
    "\n",
    "velocity1 = get_velocity(254 * imperial.mile).to(u.km / u.s)\n",
    "velocity2 = velocity1.to(mph)\n",
    "print(\"The velocity of ISS is {0:.3g} or {1:.3g}.\"\n",
    "      .format(velocity1, velocity2))"
   ]
  },
  {
   "cell_type": "markdown",
   "metadata": {},
   "source": [
    "**Problem 8** - The Procliamer's song [500 miles](https://youtu.be/MJuyn0WAYNI?t=27s) has a duration of 3 minutes and 33 seconds. Calculate at what altitude, above the Earth's surface, you would have to orbit to go 1000 miles in this time. Express your answer in units of the alititude of the ISS."
   ]
  },
  {
   "cell_type": "code",
   "execution_count": 89,
   "metadata": {},
   "outputs": [
    {
     "name": "stdout",
     "output_type": "stream",
     "text": [
      "You would have to be at an altitude 1.478 ISS altitudes.\n"
     ]
    }
   ],
   "source": [
    "def get_altitude(D, t):\n",
    "    D = D.to(u.meter)\n",
    "    t = t.to(u.s)\n",
    "    v = (D / t)\n",
    "    result = (const.G * const.M_earth) / (v ** 2)\n",
    "    return result.decompose()\n",
    "\n",
    "distance = (1000 * imperial.mile)\n",
    "time = (3 * u.min + 33 * u.s)\n",
    "altitude = (get_altitude(distance, time) - const.R_earth)\n",
    "altitude = altitude.to(imperial.mile) / (254 * imperial.mile)\n",
    "\n",
    "print(\"You would have to be at an altitude {0:.4g} ISS altitudes.\"\n",
    "      .format(altitude))"
   ]
  },
  {
   "cell_type": "markdown",
   "metadata": {},
   "source": [
    "### The Power being received by a solar panel in space can be expressed as:\n",
    "\n",
    "$$ I\\  =\\ {{L_{\\odot}} \\over {4 \\pi d^2}}\\ \\varepsilon$$\n",
    "\n",
    "Where **I** is the power **per unit area** at a distance (**d**) from the Sun, and $\\varepsilon$ is the efficiency of the solar panel.\n",
    "\n",
    "The solar panels that power spacecraft have an efficiency of about 40%."
   ]
  },
  {
   "cell_type": "markdown",
   "metadata": {},
   "source": [
    "** Problem 9 ** -  The [New Horizons](http://pluto.jhuapl.edu/) spacecraft requires 220 Watts of power.\n",
    "\n",
    "Calculate the area of a solar panel that would be needed to power New Horizons at a distance of 1 AU from the Sun."
   ]
  },
  {
   "cell_type": "code",
   "execution_count": 92,
   "metadata": {},
   "outputs": [
    {
     "name": "stdout",
     "output_type": "stream",
     "text": [
      "You would need an area of 0.4041 m2.\n"
     ]
    }
   ],
   "source": [
    "def get_intensity(d):\n",
    "    d = d.to(u.meter)\n",
    "    result = ((const.L_sun * 0.4) / (4 * np.pi * (d ** 2)))\n",
    "    return result\n",
    "\n",
    "get_area = lambda intensity, power : (power / intensity).to(u.m ** 2)\n",
    "\n",
    "area = get_area(get_intensity(1 * u.AU), 220 * u.Watt)\n",
    "print(\"You would need an area of {0:.4g}.\".format(area))"
   ]
  },
  {
   "cell_type": "markdown",
   "metadata": {},
   "source": [
    "** Problem 10 ** - Express your answer in units of the area of a piece of US letter sized paper (8.5 in x 11 in)."
   ]
  },
  {
   "cell_type": "code",
   "execution_count": 94,
   "metadata": {},
   "outputs": [
    {
     "name": "stdout",
     "output_type": "stream",
     "text": [
      "The area required in letter size would be 6.698 US paper.\n"
     ]
    }
   ],
   "source": [
    "letter_size = u.def_unit('US paper', \n",
    "                         (8.5 * imperial.inch) * (11 * imperial.inch))\n",
    "\n",
    "letter_area = area.to(letter_size)\n",
    "print(\"The area required in letter size would be {0:.4g}.\"\n",
    "      .format(letter_area))"
   ]
  },
  {
   "cell_type": "markdown",
   "metadata": {},
   "source": [
    "** Problem 11 ** - Same question as above but now a d = 30 AU.\n",
    "\n",
    "Express you answer in both sq meters and US letter sized paper"
   ]
  },
  {
   "cell_type": "code",
   "execution_count": 52,
   "metadata": {},
   "outputs": [
    {
     "name": "stdout",
     "output_type": "stream",
     "text": [
      "You would need an area of 363.66 m2.\n"
     ]
    }
   ],
   "source": [
    "area2 = get_area(get_intensity(30 * u.AU), 220 * u.Watt)\n",
    "\n",
    "print(\"You would need an area of {0:.5g}.\".format(area2))"
   ]
  },
  {
   "cell_type": "code",
   "execution_count": 95,
   "metadata": {},
   "outputs": [
    {
     "name": "stdout",
     "output_type": "stream",
     "text": [
      "The area required in letter size would be 6028.58 US paper.\n"
     ]
    }
   ],
   "source": [
    "letter_area2 = area2.to(letter_size)\n",
    "\n",
    "print(\"The area required in letter size would be {0:.6g}.\"\n",
    "      .format(letter_area2))"
   ]
  },
  {
   "cell_type": "markdown",
   "metadata": {},
   "source": [
    "** Problem 12 ** - The main part of the Oort cloud is thought to be at a distance of about 10,000 AU.\n",
    "\n",
    "Calculate the size of the solar panel New Horizons would need to operate in the Oort cloud.\n",
    "\n",
    "Express your answer in units of the area of an American football field (120 yd x 53.3 yd)."
   ]
  },
  {
   "cell_type": "code",
   "execution_count": 96,
   "metadata": {},
   "outputs": [
    {
     "name": "stdout",
     "output_type": "stream",
     "text": [
      "You would need 7555.63 Football Fields.\n"
     ]
    }
   ],
   "source": [
    "area3 = get_area(get_intensity(10000 * u.AU), 220 * u.Watt)\n",
    "\n",
    "football_field = u.def_unit('Football Fields', \n",
    "                            (120 * imperial.yd) * (53.3 * imperial.yd))\n",
    "football_field_area = area3.to(football_field)\n",
    "\n",
    "print(\"You would need {0:.6g}.\".format(football_field_area))"
   ]
  },
  {
   "cell_type": "markdown",
   "metadata": {},
   "source": [
    "** Problem 13 ** - Calculate the maximum distance from the Sun where a solar panel of 1 football field can power the New Horizons spacecraft. Express your answer in AU."
   ]
  },
  {
   "cell_type": "code",
   "execution_count": 97,
   "metadata": {},
   "outputs": [
    {
     "name": "stdout",
     "output_type": "stream",
     "text": [
      "The max distance from the Sun would be 115.04 AU\n"
     ]
    }
   ],
   "source": [
    "def get_distance(intensity):\n",
    "    intensity = intensity.to(u.Watt / (u.meter ** 2))\n",
    "    result = np.sqrt((const.L_sun * 0.4) / (4 * np.pi * intensity))\n",
    "    return result\n",
    "\n",
    "intensity = (220 * u.Watt) / (1 * football_field)\n",
    "distance = get_distance(intensity).to(u.AU)\n",
    "print(\"The max distance from the Sun would be {0:.5g}\".format(distance))"
   ]
  },
  {
   "cell_type": "markdown",
   "metadata": {},
   "source": [
    "### Due Tues Oct 24 - 5pm\n",
    "- `Make sure to change the filename to your name!`\n",
    "- `Make sure to change the Title to your name!`\n",
    "- `File -> Download as -> HTML (.html)`\n",
    "- `upload your .html and .ipynb file to the class Canvas page`  "
   ]
  }
 ],
 "metadata": {
  "kernelspec": {
   "display_name": "Python 3",
   "language": "python",
   "name": "python3"
  },
  "language_info": {
   "codemirror_mode": {
    "name": "ipython",
    "version": 3
   },
   "file_extension": ".py",
   "mimetype": "text/x-python",
   "name": "python",
   "nbconvert_exporter": "python",
   "pygments_lexer": "ipython3",
   "version": "3.6.3"
  }
 },
 "nbformat": 4,
 "nbformat_minor": 1
}
