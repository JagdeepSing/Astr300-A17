{
 "cells": [
  {
   "cell_type": "markdown",
   "metadata": {},
   "source": [
    "# Jagdeep Singh - Protect Earth"
   ]
  },
  {
   "cell_type": "markdown",
   "metadata": {},
   "source": [
    "The goal of this project is to use your Astro 300 python programming skills to answer the 3 questions below.\n",
    "\n",
    "Your aim is to:\n",
    "\n",
    "- Create a well commmented python notebook that shows your programming.\n",
    "- Keep to the class style guide.\n",
    "- Do not hard code any common physical constants.\n",
    "- Easy to read and neat output that **clearly** shows the answers to the questions.\n",
    "- There should be no calculations outside of the `class` definition.\n",
    "\n",
    "The starting point is the dataset **`PHA.cvs`** that contains data for 10 objects classified as potentially hazardous asteroids."
   ]
  },
  {
   "cell_type": "code",
   "execution_count": 1,
   "metadata": {
    "collapsed": true
   },
   "outputs": [],
   "source": [
    "import numpy as np\n",
    "import pandas as pd\n",
    "\n",
    "from astropy.table import QTable\n",
    "from astropy import units as u\n",
    "from astropy import constants as const"
   ]
  },
  {
   "cell_type": "code",
   "execution_count": 2,
   "metadata": {
    "collapsed": true
   },
   "outputs": [],
   "source": [
    "## Define unit, ton of TNT, as equal to 4.18x10^9 J\n",
    "ton_TNT = u.def_unit('ton(s) of TNT', (4.18 * (10 ** 9)) * u.J)\n",
    "    \n",
    "class SpaceRock(object):\n",
    "    \n",
    "    \"\"\"Container for Potentially Hazardous Asteroids(PHA)\"\"\"\n",
    "    \n",
    "    def __init__(self, name = None, ab_mag = None, albedo = None, \n",
    "                 semi_major= None, ecc = None):\n",
    "        \n",
    "        \"\"\"\n",
    "        Parameters\n",
    "        ----------\n",
    "        name : string\n",
    "            Name of the potentially hazardous asteroid\n",
    "        ab_mag : array-like\n",
    "            Absolute Magnitude of each Asteroid\n",
    "        albedo : array-like\n",
    "            Albedo of each Asteroid\n",
    "        semi_major : array-like\n",
    "            Semi Major Axis of each Asteroid in AU\n",
    "        ecc : array-like\n",
    "            Eccentricity of each Asteroid\n",
    "        \"\"\"\n",
    "        \n",
    "        self.name = name\n",
    "        self.ab_mag = ab_mag\n",
    "        self.albedo = albedo\n",
    "        self.semi_major = semi_major * u.AU\n",
    "        self.ecc = ecc\n",
    "    \n",
    "    def diameter(self):\n",
    "        \"\"\"\n",
    "        Determine the diameter (in km) of the PHA\n",
    "        \"\"\"\n",
    "        result = ((1329.0 / np.sqrt(self.albedo)) \n",
    "                    * (10 ** (-0.2 * self.ab_mag)))\n",
    "        result = result * u.km\n",
    "        return result\n",
    "    \n",
    "    def speed(self):\n",
    "        \"\"\"\n",
    "        Determine the speed (in m/s) of the PHA\n",
    "        \"\"\"\n",
    "        result = (np.sqrt(const.G * const.M_sun * \n",
    "                          ((2/ (1 * u.AU)) - (1/self.semi_major))))\n",
    "        result = result.to(u.km / u.s)\n",
    "        return result\n",
    "    \n",
    "    def mass(self):\n",
    "        \"\"\"\n",
    "        Determine the mass (in kg) of the PHA\n",
    "        \"\"\"\n",
    "        density = 3000 * (u.kg / (u.m ** 3))\n",
    "        result = density * (1 / 6) * np.pi * ((self.diameter()) ** 3)\n",
    "        result = result.to(u.kg)\n",
    "        return result.decompose()\n",
    "    \n",
    "    def encounter_speed(self):\n",
    "        \"\"\"\n",
    "        Determine the encounter speed (in m/s) of the PBA\n",
    "        \"\"\"\n",
    "        result = self.speed() - (30 * (u.km / u.s)).to(u.m / u.s)\n",
    "        return result.decompose()\n",
    "    \n",
    "    def impact_speed(self):\n",
    "        \"\"\"\n",
    "        Determine the impact speed (in m/s) of the PBA\n",
    "        \"\"\"\n",
    "        result = np.sqrt((self.encounter_speed()) ** 2 \n",
    "                         + (11.2 * (u.km / u.s)) ** 2).to(u.km / u.s)\n",
    "        return result\n",
    "    \n",
    "    def kinetic_energy(self):\n",
    "        \"\"\"\n",
    "        Determine the kinetic energy (in tons of TNT) of the PHA\n",
    "        \"\"\"\n",
    "        \n",
    "        ## Define unit, million ton(s) of TNT, as equal to 4.18x10^15 J\n",
    "        ton_TNT = u.def_unit('million ton(s) of TNT', (4.18 * (10 ** 15)) * u.J)\n",
    "        \n",
    "        result = (0.5) * self.mass() * (self.impact_speed() ** 2)\n",
    "        return result.to(ton_TNT)\n",
    "    \n",
    "    def potential_energy(self):\n",
    "        \"\"\"\n",
    "        Determine the potential energy of the PHA\n",
    "        \"\"\"\n",
    "\n",
    "        ## Define unit, 1 ton nuclear weaponds, as equal to 4.18x10^9 J\n",
    "        ton_nuke = u.def_unit('1 ton nuclear weaponds', (4.18 * (10 ** 9)) * u.J)\n",
    "        \n",
    "        result = ((6/5) * ((const.G * \n",
    "                            (self.mass() ** 2)) / self.diameter()))\n",
    "        return result.to(ton_nuke)"
   ]
  },
  {
   "cell_type": "markdown",
   "metadata": {},
   "source": [
    "---\n",
    "\n",
    "# There should only be calls to the SpaceRock class below this line \n",
    "# (and formatting)\n",
    "\n",
    "---"
   ]
  },
  {
   "cell_type": "markdown",
   "metadata": {},
   "source": [
    "## 0 - Read the dataset `PHA.cvs` and call `SpaceRock`"
   ]
  },
  {
   "cell_type": "code",
   "execution_count": 3,
   "metadata": {
    "collapsed": true
   },
   "outputs": [],
   "source": [
    "## gets in a table of PHAs from file PHA.csv\n",
    "pha_table = QTable.read('PHA.csv', format='ascii.csv')\n",
    "\n",
    "my_name = pha_table['Name'] ## name of PHA\n",
    "my_semi_major = pha_table['a'] ## semi-major of PHA\n",
    "my_ecc = pha_table['ecc'] ## eccentricity of PHA\n",
    "my_ab_mag = pha_table['H'] ## absolute magnitude of PHA\n",
    "my_albedo = pha_table['A'] ## albedo of PHA\n",
    "\n",
    "\"\"\"\n",
    "Create array of SpaceRock objects\n",
    "with properties\n",
    "    Name\n",
    "    Absolute Magnitude\n",
    "    Albedo\n",
    "    Semi-major axis\n",
    "    Eccentricity\n",
    "\n",
    "\"\"\"\n",
    "phas = SpaceRock(name=my_name, ab_mag=my_ab_mag, albedo=my_albedo, \n",
    "                 semi_major=my_semi_major, ecc=my_ecc)"
   ]
  },
  {
   "cell_type": "markdown",
   "metadata": {},
   "source": [
    "## 1 - Determine the speed of each of the PHAs at r = 1 AU.\n",
    "\n",
    "\n",
    "* Make sure you use units.\n",
    "* Express your answer SI units with 2 digits after the decimal.\n",
    "* The output should be a series of lines like:\n",
    "  * `The speed of NAME at 1 AU is VALUE UNIT.` "
   ]
  },
  {
   "cell_type": "code",
   "execution_count": 4,
   "metadata": {},
   "outputs": [
    {
     "name": "stdout",
     "output_type": "stream",
     "text": [
      "The speed of Icarus at 1 AU is 30.87 km / s.\n",
      "The speed of Geographos at 1 AU is 32.63 km / s.\n",
      "The speed of Apollo at 1 AU is 34.22 km / s.\n",
      "The speed of Midas at 1 AU is 35.72 km / s.\n",
      "The speed of Adonis at 1 AU is 36.05 km / s.\n",
      "The speed of Phaethon at 1 AU is 32.80 km / s.\n",
      "The speed of Dionysus at 1 AU is 37.03 km / s.\n",
      "The speed of Wilson-Harrington at 1 AU is 37.92 km / s.\n",
      "The speed of Vishnu at 1 AU is 30.62 km / s.\n",
      "The speed of Toutatis at 1 AU is 37.73 km / s.\n"
     ]
    }
   ],
   "source": [
    "\"\"\"\n",
    "Goes through array of SpaceRock objects and \n",
    "prints out speed of each PHA in format:\n",
    "\"The speed of NAME at 1 AU is VALUE UNIT.\"\n",
    "\n",
    "Units:\n",
    "meters per second\n",
    "\"\"\"\n",
    "for idx,value in enumerate(phas.speed()):\n",
    "    pha_name = phas.name[idx]\n",
    "    my_string = (\"The speed of {0} at 1 AU is {1:.2f}.\"\n",
    "                 .format(pha_name, value))\n",
    "    print(my_string)"
   ]
  },
  {
   "cell_type": "markdown",
   "metadata": {},
   "source": [
    "## 2 - Determine the kinetic energy each PHA whould have impact the surface of the Earth\n",
    "\n",
    "- Express your answer in million of tons of TNT with 1 digit after the decimal\n",
    "- 1 ton TNT $= 4.18 \\times 10^9$ J.\n",
    "* The output should be a series of lines like:\n",
    "  * `The kinetic energy of NAME hitting the Earth is VALUE UNIT.` "
   ]
  },
  {
   "cell_type": "code",
   "execution_count": 5,
   "metadata": {},
   "outputs": [
    {
     "name": "stdout",
     "output_type": "stream",
     "text": [
      "The kinetic energy of Icarus hitting the Earth is 2173.0 million ton(s) of TNT.\n",
      "The kinetic energy of Geographos hitting the Earth is 134406.7 million ton(s) of TNT.\n",
      "The kinetic energy of Apollo hitting the Earth is 89862.4 million ton(s) of TNT.\n",
      "The kinetic energy of Midas hitting the Earth is 423300.9 million ton(s) of TNT.\n",
      "The kinetic energy of Adonis hitting the Earth is 3001.4 million ton(s) of TNT.\n",
      "The kinetic energy of Phaethon hitting the Earth is 2799844.2 million ton(s) of TNT.\n",
      "The kinetic energy of Dionysus hitting the Earth is 174142.4 million ton(s) of TNT.\n",
      "The kinetic energy of Wilson-Harrington hitting the Earth is 1891116.7 million ton(s) of TNT.\n",
      "The kinetic energy of Vishnu hitting the Earth is 1349.7 million ton(s) of TNT.\n",
      "The kinetic energy of Toutatis hitting the Earth is 431749.1 million ton(s) of TNT.\n"
     ]
    }
   ],
   "source": [
    "\"\"\"\n",
    "Goes through array of SpaceRock objects and prints out \n",
    "kinetic energy each PHA would have if it impacted the \n",
    "surface of the Earth.\n",
    "\"\"\"\n",
    "for idx,value in enumerate(phas.kinetic_energy()):\n",
    "    \n",
    "    pha_name = phas.name[idx]\n",
    "    my_string = (\"The kinetic energy of {0} hitting the Earth is {1:.1f}.\"\n",
    "                 .format(pha_name, value))\n",
    "    print(my_string)"
   ]
  },
  {
   "cell_type": "markdown",
   "metadata": {},
   "source": [
    "## 3 - Determine how many 1 ton nuclear weapons will be needed to destroy each of the PHAs.\n",
    "\n",
    "- Assume $\\rho$ = 3,000 kg/m$^3$\n",
    "- Express your answer in the number of 1 ton weapons with 1 digit after the decimal\n",
    "* The output should be a series of lines like:\n",
    "  * `It would take VALUE 1 ton nuclear weaponds to destroy NAME.` "
   ]
  },
  {
   "cell_type": "code",
   "execution_count": 6,
   "metadata": {},
   "outputs": [
    {
     "name": "stdout",
     "output_type": "stream",
     "text": [
      "It would take 0.9 1 ton nuclear weaponds to destroy Icarus.\n",
      "It would take 787.0 1 ton nuclear weaponds to destroy Geographos.\n",
      "It would take 352.7 1 ton nuclear weaponds to destroy Apollo.\n",
      "It would take 3957.4 1 ton nuclear weaponds to destroy Midas.\n",
      "It would take 1.0 1 ton nuclear weaponds to destroy Adonis.\n",
      "It would take 122681.6 1 ton nuclear weaponds to destroy Phaethon.\n",
      "It would take 762.0 1 ton nuclear weaponds to destroy Dionysus.\n",
      "It would take 35878.6 1 ton nuclear weaponds to destroy Wilson-Harrington.\n",
      "It would take 0.4 1 ton nuclear weaponds to destroy Vishnu.\n",
      "It would take 3143.5 1 ton nuclear weaponds to destroy Toutatis.\n"
     ]
    }
   ],
   "source": [
    "for idx,value in enumerate(phas.potential_energy()):\n",
    "    pha_name = phas.name[idx]\n",
    "    my_string = (\"It would take {0:.1f} to destroy {1}.\"\n",
    "                .format(value, pha_name))\n",
    "    print(my_string)"
   ]
  },
  {
   "cell_type": "markdown",
   "metadata": {},
   "source": [
    "## Due Tue Oct 31 - 5pm\n",
    "- `Make sure to change the filename to your name!`\n",
    "- `Make sure to change the Title to your name!`\n",
    "- `File -> Download as -> HTML (.html)`\n",
    "- `upload your .html and .ipynb file to the class Canvas page`  "
   ]
  },
  {
   "cell_type": "markdown",
   "metadata": {},
   "source": [
    "---"
   ]
  },
  {
   "cell_type": "markdown",
   "metadata": {},
   "source": [
    "## Some Orbital Mechanics\n",
    "\n",
    "Kepler's first law says: *The orbit of every planet is an ellipse with the sun at one focus*. The Semimajor axis **a** and the eccentricity **ecc** parametrize the size and shape of the ellipse. The units of **a** in our dataset are Astronomical Units (AU), the average distance between the Sun and the Earth.\n",
    "\n",
    "![Orbit Diagram](images/Orbit.jpg)\n",
    "\n",
    "For a closed elliptical orbit (orbits gravitationally bound to the Sun), $ecc = \\sqrt{1 - {b^2}/{a^2}}$, where **a** and **b** are the semimajor and semiminor axes. As you can see from the equation, when **a** = **b**, **ecc** = 0 (a circle), and when **a** $>>$ **b**, **ecc** approaches 1. When **ecc** = 1, the orbit is a parabolic orbit (just bound). When **ecc** $>$ 1 the orbit is a hyperbolic orbit (unbound).\n",
    "\n",
    "---\n",
    "\n",
    "The speed of an object on an elliptical orbit around the Sun at a distance **r** from the Sun is:\n",
    "\n",
    "$$ \\large\n",
    "v\\ =\\ \\sqrt{GM_{\\odot}\\ \\left(\\frac{2}{r} - \\frac{1}{a}\\right)}\n",
    "$$\n",
    "\n",
    "---"
   ]
  },
  {
   "cell_type": "markdown",
   "metadata": {},
   "source": [
    "## Encountering the Earth\n",
    "\n",
    "The encounter speed of an asteroid meeting the Earth at 1 AU is (assuimg aligned prograde orbits):\n",
    "\n",
    "$$ \\large\n",
    "V_{\\textrm{encounter}}\\ =\\ V_{\\textrm{asteroid at 1AU}}\\ -\\ V_{\\textrm{Earth}}\n",
    "$$\n",
    "\n",
    "Where $V_{\\textrm{Earth}}\\ =\\ 30\\ \\textrm{km/s}$\n",
    "\n",
    "## Hitting the Earth\n",
    "\n",
    "The impact speed of an asteroid hitting the Earth is:\n",
    "\n",
    "$$ \\large\n",
    "V_{\\textrm{impact}}\\ =\\ \\sqrt{V_{\\textrm{encounter}}^2 + V_{\\textrm{escape}}^2}\n",
    "$$\n",
    "\n",
    "Where $V_{\\textrm{escape}}\\ = 11.2\\ km/s$\n",
    "\n",
    "---"
   ]
  },
  {
   "cell_type": "markdown",
   "metadata": {},
   "source": [
    "## Blowing up an asteroid\n",
    "\n",
    "The self gravitational potential energy of a uniform sphere of mass (m) and diameter (d) is:\n",
    "\n",
    "$$ \\large\n",
    "PE \\ = \\ \\frac{6}{5} \\cdot \\frac{Gm^2}{d}\n",
    "$$  \n",
    "\n",
    "This is the amount of energy you need to give the sphere to move all of its components pieces infinitely far away (i.e. to destroy it!).\n",
    "\n",
    "Remember that the mass and diameter of the asteroid is derived from its absolute magnitude **H** and albedo **A**."
   ]
  }
 ],
 "metadata": {
  "kernelspec": {
   "display_name": "Python 3",
   "language": "python",
   "name": "python3"
  },
  "language_info": {
   "codemirror_mode": {
    "name": "ipython",
    "version": 3
   },
   "file_extension": ".py",
   "mimetype": "text/x-python",
   "name": "python",
   "nbconvert_exporter": "python",
   "pygments_lexer": "ipython3",
   "version": "3.6.2"
  }
 },
 "nbformat": 4,
 "nbformat_minor": 1
}
