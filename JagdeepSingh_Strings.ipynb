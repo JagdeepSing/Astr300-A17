{
 "cells": [
  {
   "cell_type": "markdown",
   "metadata": {},
   "source": [
    "## Jagdeep Singh - Strings"
   ]
  },
  {
   "cell_type": "code",
   "execution_count": 1,
   "metadata": {
    "collapsed": true
   },
   "outputs": [],
   "source": [
    "import numpy as np\n",
    "import pandas as pd"
   ]
  },
  {
   "cell_type": "markdown",
   "metadata": {},
   "source": [
    "### Read in the datafile `MainBelt.csv`"
   ]
  },
  {
   "cell_type": "code",
   "execution_count": 2,
   "metadata": {
    "collapsed": true
   },
   "outputs": [],
   "source": [
    "cols = [\"Name\", \"Magnitude\", \"Geo Albedo\"]\n",
    "mba_table = pd.read_csv('MainBelt.csv', skiprows = 9, \n",
    "                            names = cols, header = None)"
   ]
  },
  {
   "cell_type": "markdown",
   "metadata": {},
   "source": [
    "### Write a function to compute the Diameters of the MBAs\n",
    " * The largest asteroid should be D ~ 1000 km"
   ]
  },
  {
   "cell_type": "code",
   "execution_count": 3,
   "metadata": {
    "collapsed": true
   },
   "outputs": [],
   "source": [
    "# function to get the diameter of an object using its albedo and magnitude\n",
    "def find_diameter(albedo, magnitude):\n",
    "    diameter = (1329 / np.sqrt(albedo)) * (10 ** (-0.2 * magnitude))\n",
    "    return diameter\n",
    "\n",
    "mba_table['Diameter'] = find_diameter(mba_table['Geo Albedo'], \n",
    "                                      mba_table['Magnitude'])"
   ]
  },
  {
   "cell_type": "markdown",
   "metadata": {},
   "source": [
    "### Write a function to compute the Masses of the MBAs. Assume $\\rho$ = 3,000 kg/m$^3$\n",
    "* The most massive asteroid should be M ~ 1e21 kg"
   ]
  },
  {
   "cell_type": "code",
   "execution_count": 4,
   "metadata": {
    "collapsed": true
   },
   "outputs": [],
   "source": [
    "def find_mass(diameter):\n",
    "    mass = 3000 * (1 / 6) * np.pi * ((diameter * 1000) ** 3)\n",
    "    return mass\n",
    "\n",
    "mba_table['Mass'] = find_mass(mba_table['Diameter'])"
   ]
  },
  {
   "cell_type": "markdown",
   "metadata": {},
   "source": [
    "### List the names of the 5 most massive MBAs"
   ]
  },
  {
   "cell_type": "code",
   "execution_count": 41,
   "metadata": {},
   "outputs": [
    {
     "name": "stdout",
     "output_type": "stream",
     "text": [
      "The 5 largest asteroids are (starting with the largest):\n",
      "At number 1 is 1 Ceres with a mass of 1.35e+21 kg\n",
      "At number 2 is 2 Pallas with a mass of 1.94e+20 kg\n",
      "At number 3 is 4 Vesta with a mass of 1.61e+20 kg\n",
      "At number 4 is 10 Hygiea with a mass of 1.06e+20 kg\n",
      "At number 5 is 511 Davida (1903 LU) with a mass of 5.45e+19 kg\n"
     ]
    }
   ],
   "source": [
    "most_mass = mba_table.sort_values(['Mass'], ascending=False)[:5]\n",
    "most_mass = most_mass.reset_index(drop=True)\n",
    "\n",
    "print(\"The 5 largest asteroids are (starting with the largest):\")\n",
    "for inx,val in enumerate(most_mass['Name']):\n",
    "    \n",
    "    n = inx + 1\n",
    "    name = val.strip()\n",
    "    mass = most_mass.at[inx, 'Mass']\n",
    "\n",
    "    print(\"At number {0:d} is {1:s} with a mass of {2:.2e} kg\"\n",
    "          .format(n,name,mass))"
   ]
  },
  {
   "cell_type": "markdown",
   "metadata": {},
   "source": [
    "### List the names of the 5 least massive MBAs"
   ]
  },
  {
   "cell_type": "code",
   "execution_count": 40,
   "metadata": {},
   "outputs": [
    {
     "name": "stdout",
     "output_type": "stream",
     "text": [
      "The 5 smallest asteroids are (starting with the smallest):\n",
      "At number 1 is 26604 (2000 FO25) with a mass of 2.70e+14 kg\n",
      "At number 2 is 4335 Verona (1983 VC7) with a mass of 3.25e+14 kg\n",
      "At number 3 is 3338 Richter (1973 UX5) with a mass of 3.52e+14 kg\n",
      "At number 4 is 4121 Carlin (1986 JH) with a mass of 3.78e+14 kg\n",
      "At number 5 is 6295 Schmoll (1988 CF3) with a mass of 3.95e+14 kg\n"
     ]
    }
   ],
   "source": [
    "least_mass = mba_table.sort_values(['Mass'])[:5]\n",
    "least_mass = least_mass.reset_index(drop=True)\n",
    "\n",
    "print(\"The 5 smallest asteroids are (starting with the smallest):\")\n",
    "for inx,val in enumerate(least_mass['Name']):\n",
    "    \n",
    "    n = inx + 1\n",
    "    name = val.strip()\n",
    "    mass = least_mass.at[inx, 'Mass']\n",
    "    \n",
    "    print(\"At number {0:d} is {1:s} with a mass of {2:.2e} kg\"\n",
    "          .format(n,name,mass))"
   ]
  },
  {
   "cell_type": "markdown",
   "metadata": {},
   "source": [
    "### Determine the total mass of all of the MBAs"
   ]
  },
  {
   "cell_type": "code",
   "execution_count": 16,
   "metadata": {},
   "outputs": [
    {
     "data": {
      "text/plain": [
       "3.146177625451557e+21"
      ]
     },
     "execution_count": 16,
     "metadata": {},
     "output_type": "execute_result"
    }
   ],
   "source": [
    "total_mass = mba_table['Mass'].sum()\n",
    "total_mass = round(total_mass, 2)\n",
    "total_mass"
   ]
  },
  {
   "cell_type": "markdown",
   "metadata": {},
   "source": [
    "### Determine the fraction of the total mass contained in the 5 largest MBAs"
   ]
  },
  {
   "cell_type": "code",
   "execution_count": 8,
   "metadata": {
    "collapsed": true
   },
   "outputs": [],
   "source": [
    "top_five_mass = mba_table.sort_values(['Mass'])[-5:]['Mass'].sum() \n",
    "top_five_percent = (top_five_mass / total_mass) * 100"
   ]
  },
  {
   "cell_type": "markdown",
   "metadata": {},
   "source": [
    "### How does the total mass of the MBAs compare to the mass of the Moon ($7.35\\ \\times\\ 10^{22}$ kg)?"
   ]
  },
  {
   "cell_type": "code",
   "execution_count": 9,
   "metadata": {
    "collapsed": true
   },
   "outputs": [],
   "source": [
    "of_moon = (total_mass / (7.35 * (10 ** 22))) * 100\n",
    "n_times = (100 / of_moon)"
   ]
  },
  {
   "cell_type": "markdown",
   "metadata": {},
   "source": [
    "### How many MBAs does it take to get 90% of the total mass of the MBAs (start from the most massive)"
   ]
  },
  {
   "cell_type": "code",
   "execution_count": 10,
   "metadata": {
    "collapsed": true
   },
   "outputs": [],
   "source": [
    "x = mba_table.sort_values(['Mass'], \n",
    "            ascending=False)['Mass'].cumsum() / total_mass\n",
    "ninty_percent = sum(float(num) <= 0.90 for num in x)"
   ]
  },
  {
   "cell_type": "code",
   "execution_count": 39,
   "metadata": {},
   "outputs": [
    {
     "name": "stdout",
     "output_type": "stream",
     "text": [
      "\n",
      "The total mass of the main belt of the asteroid belt is 3.15e+21 kg, of\n",
      "which 59.4% of the total mass is contained in the five most massive \n",
      "asteroids. In fact, the 149 largest asteroids acount for 90% of the \n",
      "total mass of the main belt. The Moon is 23.36 times more massive than \n",
      "the total mass of the main belt asteroids.\n",
      "\n"
     ]
    }
   ],
   "source": [
    "### Summary\n",
    "\n",
    "print(\"\"\"\n",
    "The total mass of the main belt of the asteroid belt is {0:.3g} kg, of\n",
    "which {1:.4g}% of the total mass is contained in the five most massive \n",
    "asteroids. In fact, the {2:d} largest asteroids acount for 90% of the \n",
    "total mass of the main belt. The Moon is {3:.4g} times more massive than \n",
    "the total mass of the main belt asteroids.\n",
    "\"\"\".format(total_mass, top_five_percent, ninty_percent, n_times))"
   ]
  },
  {
   "cell_type": "markdown",
   "metadata": {},
   "source": [
    "### Due Tue Oct 19 - 5pm\n",
    "- `Make sure to change the filename to your name!`\n",
    "- `Make sure to change the Title to your name!`\n",
    "- `File -> Download as -> HTML (.html)`\n",
    "- `upload your .html and .ipynb file to the class Canvas page`  "
   ]
  },
  {
   "cell_type": "markdown",
   "metadata": {},
   "source": [
    "***\n",
    "\n",
    "## Absolute Magnitude, Size and Mass\n",
    "\n",
    "The absolute magnitude **H** of a solar system object is the magnitude that it would have if it was 1 AU from the Earth and 1 AU from the Sun while having a phase angle of 0 degrees. Remember, astronomical magnitudes are \"backwards\".  The magnitude of a bright object is *less* than the magnitude of a dimmer object.\n",
    "\n",
    "The phase angle **$\\theta$** in astronomical observations is the angle between the light incident onto an observed object and the light reflected from the object. In the context of astronomical observations, this is usually the angle $\\angle$ Sun-object-observer.\n",
    "\n",
    "![Phase Angle](images/Phase.jpg)\n",
    "\n",
    "It is actually impossible for an object to be 1 AU from the Earth and 1 AU from the Sun while having a phase angle of 0 degrees. The Sun and the Earth would occupy the same point.  However, this is the definition of **H**.  Please note, that the definition of absolute magnitude for solar system objects is *very* different from the definition of absolute magnitude used for stars.\n",
    "\n",
    "The Absolute magnitude of an object is related to the physical size of the object via the equation:\n",
    "\n",
    "$$\\large D\\ (\\textrm{in km}) = \\frac{1329}{\\sqrt{A}}\\  10^{-0.2H}$$\n",
    "\n",
    "Where **D** is the diameter of the object in kilometers and **A** is the geometric albedo of the object. \n",
    "\n",
    "The geometric albedo **A** of an astronomical body is the ratio of its actual brightness at zero phase angle (i.e., as seen from the light source) to that of an idealized flat, fully reflecting, diffusively scattering disk with the same cross-section.\n",
    "\n",
    "Perfect reflectors of light have A = 1 and perfect absorbers have **A** = 0. Typical asteroids have a wide range of values: 0.02 $<$ A $<$ 0.8.\n",
    "\n",
    "Once we have the diameter of the object, we can determine the mass if we know the density ($\\rho$).\n",
    "\n",
    "$ \\large \\mathrm{Mass} = \\rho \\cdot \\mathrm{Volume} = \\rho \\cdot \\frac{4}{3} \\pi r^3 \\ = \\ \\rho \\cdot \\frac{1}{6} \\pi D^3 $\n",
    "\n",
    "This assumes that the object is spherical (this is **not** a very good assumption for asteroids)."
   ]
  }
 ],
 "metadata": {
  "anaconda-cloud": {},
  "kernelspec": {
   "display_name": "Python 3",
   "language": "python",
   "name": "python3"
  },
  "language_info": {
   "codemirror_mode": {
    "name": "ipython",
    "version": 3
   },
   "file_extension": ".py",
   "mimetype": "text/x-python",
   "name": "python",
   "nbconvert_exporter": "python",
   "pygments_lexer": "ipython3",
   "version": "3.6.2"
  }
 },
 "nbformat": 4,
 "nbformat_minor": 1
}
